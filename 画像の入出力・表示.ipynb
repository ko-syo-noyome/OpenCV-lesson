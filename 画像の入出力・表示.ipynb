{
  "nbformat": 4,
  "nbformat_minor": 0,
  "metadata": {
    "colab": {
      "provenance": [],
      "collapsed_sections": [],
      "authorship_tag": "ABX9TyPf9t14QugLVW+WIoxEhWah",
      "include_colab_link": true
    },
    "kernelspec": {
      "name": "python3",
      "display_name": "Python 3"
    },
    "language_info": {
      "name": "python"
    }
  },
  "cells": [
    {
      "cell_type": "markdown",
      "metadata": {
        "id": "view-in-github",
        "colab_type": "text"
      },
      "source": [
        "<a href=\"https://colab.research.google.com/github/ko-syo-noyome/OpenCV-lesson/blob/main/%E7%94%BB%E5%83%8F%E3%81%AE%E5%85%A5%E5%87%BA%E5%8A%9B%E3%83%BB%E8%A1%A8%E7%A4%BA.ipynb\" target=\"_parent\"><img src=\"https://colab.research.google.com/assets/colab-badge.svg\" alt=\"Open In Colab\"/></a>"
      ]
    },
    {
      "cell_type": "code",
      "execution_count": null,
      "metadata": {
        "id": "GZqhpFfqGpou",
        "colab": {
          "base_uri": "https://localhost:8080/",
          "height": 78
        },
        "outputId": "7c6794aa-ea5a-4512-8118-24584fabdc70"
      },
      "outputs": [
        {
          "output_type": "display_data",
          "data": {
            "text/plain": [
              "<IPython.core.display.HTML object>"
            ],
            "text/html": [
              "\n",
              "     <input type=\"file\" id=\"files-5a80a5d3-adc4-485e-9851-fa2f4a0177b7\" name=\"files[]\" multiple disabled\n",
              "        style=\"border:none\" />\n",
              "     <output id=\"result-5a80a5d3-adc4-485e-9851-fa2f4a0177b7\">\n",
              "      Upload widget is only available when the cell has been executed in the\n",
              "      current browser session. Please rerun this cell to enable.\n",
              "      </output>\n",
              "      <script>// Copyright 2017 Google LLC\n",
              "//\n",
              "// Licensed under the Apache License, Version 2.0 (the \"License\");\n",
              "// you may not use this file except in compliance with the License.\n",
              "// You may obtain a copy of the License at\n",
              "//\n",
              "//      http://www.apache.org/licenses/LICENSE-2.0\n",
              "//\n",
              "// Unless required by applicable law or agreed to in writing, software\n",
              "// distributed under the License is distributed on an \"AS IS\" BASIS,\n",
              "// WITHOUT WARRANTIES OR CONDITIONS OF ANY KIND, either express or implied.\n",
              "// See the License for the specific language governing permissions and\n",
              "// limitations under the License.\n",
              "\n",
              "/**\n",
              " * @fileoverview Helpers for google.colab Python module.\n",
              " */\n",
              "(function(scope) {\n",
              "function span(text, styleAttributes = {}) {\n",
              "  const element = document.createElement('span');\n",
              "  element.textContent = text;\n",
              "  for (const key of Object.keys(styleAttributes)) {\n",
              "    element.style[key] = styleAttributes[key];\n",
              "  }\n",
              "  return element;\n",
              "}\n",
              "\n",
              "// Max number of bytes which will be uploaded at a time.\n",
              "const MAX_PAYLOAD_SIZE = 100 * 1024;\n",
              "\n",
              "function _uploadFiles(inputId, outputId) {\n",
              "  const steps = uploadFilesStep(inputId, outputId);\n",
              "  const outputElement = document.getElementById(outputId);\n",
              "  // Cache steps on the outputElement to make it available for the next call\n",
              "  // to uploadFilesContinue from Python.\n",
              "  outputElement.steps = steps;\n",
              "\n",
              "  return _uploadFilesContinue(outputId);\n",
              "}\n",
              "\n",
              "// This is roughly an async generator (not supported in the browser yet),\n",
              "// where there are multiple asynchronous steps and the Python side is going\n",
              "// to poll for completion of each step.\n",
              "// This uses a Promise to block the python side on completion of each step,\n",
              "// then passes the result of the previous step as the input to the next step.\n",
              "function _uploadFilesContinue(outputId) {\n",
              "  const outputElement = document.getElementById(outputId);\n",
              "  const steps = outputElement.steps;\n",
              "\n",
              "  const next = steps.next(outputElement.lastPromiseValue);\n",
              "  return Promise.resolve(next.value.promise).then((value) => {\n",
              "    // Cache the last promise value to make it available to the next\n",
              "    // step of the generator.\n",
              "    outputElement.lastPromiseValue = value;\n",
              "    return next.value.response;\n",
              "  });\n",
              "}\n",
              "\n",
              "/**\n",
              " * Generator function which is called between each async step of the upload\n",
              " * process.\n",
              " * @param {string} inputId Element ID of the input file picker element.\n",
              " * @param {string} outputId Element ID of the output display.\n",
              " * @return {!Iterable<!Object>} Iterable of next steps.\n",
              " */\n",
              "function* uploadFilesStep(inputId, outputId) {\n",
              "  const inputElement = document.getElementById(inputId);\n",
              "  inputElement.disabled = false;\n",
              "\n",
              "  const outputElement = document.getElementById(outputId);\n",
              "  outputElement.innerHTML = '';\n",
              "\n",
              "  const pickedPromise = new Promise((resolve) => {\n",
              "    inputElement.addEventListener('change', (e) => {\n",
              "      resolve(e.target.files);\n",
              "    });\n",
              "  });\n",
              "\n",
              "  const cancel = document.createElement('button');\n",
              "  inputElement.parentElement.appendChild(cancel);\n",
              "  cancel.textContent = 'Cancel upload';\n",
              "  const cancelPromise = new Promise((resolve) => {\n",
              "    cancel.onclick = () => {\n",
              "      resolve(null);\n",
              "    };\n",
              "  });\n",
              "\n",
              "  // Wait for the user to pick the files.\n",
              "  const files = yield {\n",
              "    promise: Promise.race([pickedPromise, cancelPromise]),\n",
              "    response: {\n",
              "      action: 'starting',\n",
              "    }\n",
              "  };\n",
              "\n",
              "  cancel.remove();\n",
              "\n",
              "  // Disable the input element since further picks are not allowed.\n",
              "  inputElement.disabled = true;\n",
              "\n",
              "  if (!files) {\n",
              "    return {\n",
              "      response: {\n",
              "        action: 'complete',\n",
              "      }\n",
              "    };\n",
              "  }\n",
              "\n",
              "  for (const file of files) {\n",
              "    const li = document.createElement('li');\n",
              "    li.append(span(file.name, {fontWeight: 'bold'}));\n",
              "    li.append(span(\n",
              "        `(${file.type || 'n/a'}) - ${file.size} bytes, ` +\n",
              "        `last modified: ${\n",
              "            file.lastModifiedDate ? file.lastModifiedDate.toLocaleDateString() :\n",
              "                                    'n/a'} - `));\n",
              "    const percent = span('0% done');\n",
              "    li.appendChild(percent);\n",
              "\n",
              "    outputElement.appendChild(li);\n",
              "\n",
              "    const fileDataPromise = new Promise((resolve) => {\n",
              "      const reader = new FileReader();\n",
              "      reader.onload = (e) => {\n",
              "        resolve(e.target.result);\n",
              "      };\n",
              "      reader.readAsArrayBuffer(file);\n",
              "    });\n",
              "    // Wait for the data to be ready.\n",
              "    let fileData = yield {\n",
              "      promise: fileDataPromise,\n",
              "      response: {\n",
              "        action: 'continue',\n",
              "      }\n",
              "    };\n",
              "\n",
              "    // Use a chunked sending to avoid message size limits. See b/62115660.\n",
              "    let position = 0;\n",
              "    do {\n",
              "      const length = Math.min(fileData.byteLength - position, MAX_PAYLOAD_SIZE);\n",
              "      const chunk = new Uint8Array(fileData, position, length);\n",
              "      position += length;\n",
              "\n",
              "      const base64 = btoa(String.fromCharCode.apply(null, chunk));\n",
              "      yield {\n",
              "        response: {\n",
              "          action: 'append',\n",
              "          file: file.name,\n",
              "          data: base64,\n",
              "        },\n",
              "      };\n",
              "\n",
              "      let percentDone = fileData.byteLength === 0 ?\n",
              "          100 :\n",
              "          Math.round((position / fileData.byteLength) * 100);\n",
              "      percent.textContent = `${percentDone}% done`;\n",
              "\n",
              "    } while (position < fileData.byteLength);\n",
              "  }\n",
              "\n",
              "  // All done.\n",
              "  yield {\n",
              "    response: {\n",
              "      action: 'complete',\n",
              "    }\n",
              "  };\n",
              "}\n",
              "\n",
              "scope.google = scope.google || {};\n",
              "scope.google.colab = scope.google.colab || {};\n",
              "scope.google.colab._files = {\n",
              "  _uploadFiles,\n",
              "  _uploadFilesContinue,\n",
              "};\n",
              "})(self);\n",
              "</script> "
            ]
          },
          "metadata": {}
        },
        {
          "output_type": "stream",
          "name": "stdout",
          "text": [
            "Saving 001.JPG to 001.JPG\n"
          ]
        }
      ],
      "source": [
        "#https://algorithm.joho.info/programming/python-opencv-cv2-imread/#toc2\n",
        "from google.colab import files\n",
        "uploadrd=files.upload()"
      ]
    },
    {
      "cell_type": "markdown",
      "source": [
        "*google* colabに写真を入れとく必要がある。"
      ],
      "metadata": {
        "id": "RXcQRereKspH"
      }
    },
    {
      "cell_type": "markdown",
      "source": [
        "<h1>1.画像の読み込み</h1>"
      ],
      "metadata": {
        "id": "ronlXN_uWQYY"
      }
    },
    {
      "cell_type": "code",
      "source": [
        "import cv2\n",
        "import numpy as np\n",
        "import matplotlib.pyplot as plt\n",
        "from google.colab.patches import cv2_imshow\n",
        "\n",
        "img = cv2.imread(\"001.JPG\",0)\n",
        "\n",
        "# グレースケール変換\n",
        "#gray = cv2.cvtColor(img, cv2.COLOR_BGR2GRAY)\n",
        "\n",
        "# 平均値フィルタでぼかし\n",
        "dst = cv2.blur(img, ksize=(3,3))\n",
        "\n",
        "# 結果を出力\n",
        "#cv2.imshow(\"mc\", img)\n",
        "plt.imshow(dst, cmap=\"gray\")\n"
      ],
      "metadata": {
        "colab": {
          "base_uri": "https://localhost:8080/",
          "height": 287
        },
        "id": "5aJiyJjKJEsa",
        "outputId": "4742ea84-4469-42d3-8ea6-8d5523720c42"
      },
      "execution_count": null,
      "outputs": [
        {
          "output_type": "execute_result",
          "data": {
            "text/plain": [
              "<matplotlib.image.AxesImage at 0x7f7ed8329c50>"
            ]
          },
          "metadata": {},
          "execution_count": 47
        },
        {
          "output_type": "display_data",
          "data": {
            "text/plain": [
              "<Figure size 432x288 with 1 Axes>"
            ],
            "image/png": "[encoded data removed]"
          },
          "metadata": {
            "needs_background": "light"
          }
        }
      ]
    },
    {
      "cell_type": "markdown",
      "source": [
        "<h1>2.画像の書き込み</h1>"
      ],
      "metadata": {
        "id": "QwS5wrSafIfq"
      }
    },
    {
      "cell_type": "code",
      "source": [
        "import cv2\n",
        "import numpy as np\n",
        "\n",
        "\n",
        "# 画像の読み込み(RGB)\n",
        "# img = cv2.imread(\"001.JPG\")\n",
        "\n",
        "# 三次元配列(カラー)\n",
        "img2 = np.array([[[36, 28, 237], [ 76, 177, 34], [204, 72, 63]],\n",
        "                     [[0, 0 ,0], [255, 255, 255], [195, 195, 195]],\n",
        "                     [[164, 73, 163], [ 36, 28, 237], [0, 0, 0]]])\n",
        "\n",
        "# 二次元配列（グレースケール）\n",
        "gray = np.array([[138, 142, 98],\n",
        "                 [0, 255, 195],\n",
        "                 [120, 138, 0]])\n",
        "\n",
        "# 画像ファイルに出力\n",
        "cv2.imwrite(\"output1.jpg\", img)\n",
        "cv2.imwrite(\"output2.jpg\", img2)\n",
        "cv2.imwrite(\"output3.jpg\", gray)"
      ],
      "metadata": {
        "id": "XpIRm8GjHMJ6",
        "colab": {
          "base_uri": "https://localhost:8080/"
        },
        "outputId": "9f73b8ba-aa07-418c-f873-802554a3abf8"
      },
      "execution_count": null,
      "outputs": [
        {
          "output_type": "execute_result",
          "data": {
            "text/plain": [
              "True"
            ]
          },
          "metadata": {},
          "execution_count": 49
        }
      ]
    },
    {
      "cell_type": "markdown",
      "source": [
        "windosは[blue Green Red]の順に表示される。\n",
        "\n"
      ],
      "metadata": {
        "id": "hJbsGhU1NCaI"
      }
    },
    {
      "cell_type": "markdown",
      "source": [
        "**まとめ**\n",
        "\n",
        "imread関数\n",
        "\n",
        "・第一引数\n",
        "\n",
        "*   画像ファイルのパス\n",
        "\n",
        "・第二引数\n",
        "\n",
        "1.   cv2.IMREAD_COLOR or 1を指定する場合 : (画像をカラー(RGB)で読み込む。 第二引数を指定しない場合にも選ばれる。デフォルト。)\n",
        "2.   cv2.IMREAD_UNCHANGED or -1を指定する場合 : (画像をカラー(RGB)に透過度を加えた形式(RGBA)\n",
        "1.   cv2.IMREAD_GRAYSCALE or 0を指定する場合 : (画像をグレースケールで読み込む。)\n",
        "\n",
        "\n",
        "\n",
        "\n",
        "\n",
        "\n",
        "\n",
        "\n",
        "\n",
        "  \n",
        "\n",
        "\n"
      ],
      "metadata": {
        "id": "65JDmSMsLSag"
      }
    },
    {
      "cell_type": "markdown",
      "source": [
        "<h1>4.画像の高さ・幅・チャンネル数・画素数を取得</h1>"
      ],
      "metadata": {
        "id": "m2khhpArWGlC"
      }
    },
    {
      "cell_type": "code",
      "source": [
        "import cv2\n",
        "import numpy as np\n",
        "\n",
        "# img = cv2.imread(\"mc.png\",1)\n",
        "\n",
        "height, width, ch = img.shape\n",
        "\n",
        "\n",
        "# 画素数 = 幅 * 高さ\n",
        "size = width * height\n",
        "\n",
        "# 情報表示\n",
        "print(\"幅：\", width)\n",
        "print(\"高さ：\", height)\n",
        "print(\"チャンネル数:\", ch)\n",
        "print(\"画素数:\", size)   \n",
        "print(\"データ型：\", img.dtype)\n",
        "\n",
        "# 1chずつ表示\n",
        "print(\"Bの画素値：\\n\", img[:,:,0])\n",
        "print(\"Gの画素値：\\n\", img[:,:,1])\n",
        "print(\"Rの画素値：\\n\", img[:,:,2])"
      ],
      "metadata": {
        "id": "bWSGFdrbT32J",
        "outputId": "30f337be-e298-4f1d-b4bd-e58025dca802",
        "colab": {
          "base_uri": "https://localhost:8080/"
        }
      },
      "execution_count": null,
      "outputs": [
        {
          "output_type": "stream",
          "name": "stdout",
          "text": [
            "幅： 4032\n",
            "高さ： 3024\n",
            "チャンネル数: 3\n",
            "画素数: 12192768\n",
            "データ型： uint8\n",
            "Bの画素値：\n",
            " [[ 74 107 138 ...  37  34  30]\n",
            " [ 59  99 142 ...  36  36  33]\n",
            " [ 44  88 135 ...  34  36  35]\n",
            " ...\n",
            " [225 225 225 ... 110 109 108]\n",
            " [224 224 223 ...  97  96  95]\n",
            " [225 224 223 ...  95  93  93]]\n",
            "Gの画素値：\n",
            " [[ 76 109 140 ...  48  48  44]\n",
            " [ 61 101 144 ...  47  50  47]\n",
            " [ 46  90 137 ...  45  50  49]\n",
            " ...\n",
            " [231 231 231 ... 118 117 116]\n",
            " [232 232 231 ... 105 104 103]\n",
            " [233 232 231 ... 103 101 101]]\n",
            "Rの画素値：\n",
            " [[ 77 110 141 ...  46  44  40]\n",
            " [ 62 102 145 ...  45  46  43]\n",
            " [ 47  91 138 ...  43  46  45]\n",
            " ...\n",
            " [226 226 226 ... 125 124 123]\n",
            " [225 225 224 ... 112 111 110]\n",
            " [226 225 224 ... 110 108 108]]\n"
          ]
        }
      ]
    },
    {
      "cell_type": "markdown",
      "source": [
        "<h1>5.グレースケール変換</h1>"
      ],
      "metadata": {
        "id": "jHpEPezoWO5Z"
      }
    },
    {
      "cell_type": "markdown",
      "source": [
        "Method 1"
      ],
      "metadata": {
        "id": "Wul_LKNbhpQu"
      }
    },
    {
      "cell_type": "code",
      "source": [
        "# グレースケール変換   \n",
        "gray = cv2.cvtColor(img, cv2.COLOR_BGR2GRAY)\n",
        "    \n",
        "# グレースケール画像の書き込み\n",
        "# cv2.imwrite(\"C:\\prog\\python\\gray.png\", gray)\n",
        "\n",
        "\n",
        "# BGR, B, G, R, Grayの2次元配列を確認\n",
        "print(\"BGR=\", img)\n",
        "print(\"-------------\")\n",
        "\n",
        "print(\"Blue=\", img[:,:,0])\n",
        "print(\"-------------\")\n",
        "\n",
        "print(\"Green=\", img[:,:,1])\n",
        "print(\"-------------\")\n",
        "\n",
        "print(\"Red=\", img[:,:,2])\n",
        "print(\"-------------\")\n",
        "print(\"gray=\", gray)"
      ],
      "metadata": {
        "id": "FBl_uChCUb1Z",
        "outputId": "2092895e-1bbe-4645-a770-f427e1c8e91c",
        "colab": {
          "base_uri": "https://localhost:8080/"
        }
      },
      "execution_count": null,
      "outputs": [
        {
          "output_type": "stream",
          "name": "stdout",
          "text": [
            "BGR= [[[ 74  76  77]\n",
            "  [107 109 110]\n",
            "  [138 140 141]\n",
            "  ...\n",
            "  [ 37  48  46]\n",
            "  [ 34  48  44]\n",
            "  [ 30  44  40]]\n",
            "\n",
            " [[ 59  61  62]\n",
            "  [ 99 101 102]\n",
            "  [142 144 145]\n",
            "  ...\n",
            "  [ 36  47  45]\n",
            "  [ 36  50  46]\n",
            "  [ 33  47  43]]\n",
            "\n",
            " [[ 44  46  47]\n",
            "  [ 88  90  91]\n",
            "  [135 137 138]\n",
            "  ...\n",
            "  [ 34  45  43]\n",
            "  [ 36  50  46]\n",
            "  [ 35  49  45]]\n",
            "\n",
            " ...\n",
            "\n",
            " [[225 231 226]\n",
            "  [225 231 226]\n",
            "  [225 231 226]\n",
            "  ...\n",
            "  [110 118 125]\n",
            "  [109 117 124]\n",
            "  [108 116 123]]\n",
            "\n",
            " [[224 232 225]\n",
            "  [224 232 225]\n",
            "  [223 231 224]\n",
            "  ...\n",
            "  [ 97 105 112]\n",
            "  [ 96 104 111]\n",
            "  [ 95 103 110]]\n",
            "\n",
            " [[225 233 226]\n",
            "  [224 232 225]\n",
            "  [223 231 224]\n",
            "  ...\n",
            "  [ 95 103 110]\n",
            "  [ 93 101 108]\n",
            "  [ 93 101 108]]]\n",
            "-------------\n",
            "Blue= [[ 74 107 138 ...  37  34  30]\n",
            " [ 59  99 142 ...  36  36  33]\n",
            " [ 44  88 135 ...  34  36  35]\n",
            " ...\n",
            " [225 225 225 ... 110 109 108]\n",
            " [224 224 223 ...  97  96  95]\n",
            " [225 224 223 ...  95  93  93]]\n",
            "-------------\n",
            "Green= [[ 76 109 140 ...  48  48  44]\n",
            " [ 61 101 144 ...  47  50  47]\n",
            " [ 46  90 137 ...  45  50  49]\n",
            " ...\n",
            " [231 231 231 ... 118 117 116]\n",
            " [232 232 231 ... 105 104 103]\n",
            " [233 232 231 ... 103 101 101]]\n",
            "-------------\n",
            "Red= [[ 77 110 141 ...  46  44  40]\n",
            " [ 62 102 145 ...  45  46  43]\n",
            " [ 47  91 138 ...  43  46  45]\n",
            " ...\n",
            " [226 226 226 ... 125 124 123]\n",
            " [225 225 224 ... 112 111 110]\n",
            " [226 225 224 ... 110 108 108]]\n",
            "-------------\n",
            "gray= [[ 76 109 140 ...  46  45  41]\n",
            " [ 61 101 144 ...  45  47  44]\n",
            " [ 46  90 137 ...  43  47  46]\n",
            " ...\n",
            " [229 229 229 ... 119 118 117]\n",
            " [229 229 228 ... 106 105 104]\n",
            " [230 229 228 ... 104 102 102]]\n"
          ]
        }
      ]
    },
    {
      "cell_type": "markdown",
      "source": [
        "Method 2"
      ],
      "metadata": {
        "id": "ru4znDCQhw7L"
      }
    },
    {
      "cell_type": "code",
      "source": [
        "def rgb_to_gray(src):\n",
        "     # チャンネル分解\n",
        "     b, g, r = src[:,:,0], src[:,:,1], src[:,:,2]\n",
        "\n",
        "     # R, G, Bの値からGrayの値に変換（float型 → 符号なし8bit整数型に変換）\n",
        "     return np.array(0.2989 * r + 0.5870 * g + 0.1140 * b, dtype='uint8')\n",
        "    \n",
        "# グレースケール変換   \n",
        "gray = rgb_to_gray(img)\n",
        "    \n",
        "# グレースケール画像の書き込み\n",
        "#cv2.imwrite(\"C:\\prog\\python\\gray.png\", gray)\n",
        "\n",
        "\n",
        "# BGR, B, G, R, Grayの2次元配列を確認\n",
        "print(\"BGR=\", img)\n",
        "print(\"-------------\")\n",
        "\n",
        "print(\"Blue=\", img[:,:,0])\n",
        "print(\"-------------\")\n",
        "\n",
        "print(\"Green=\", img[:,:,1])\n",
        "print(\"-------------\")\n",
        "\n",
        "print(\"Red=\", img[:,:,2])\n",
        "print(\"-------------\")\n",
        "print(\"gray=\", gray)"
      ],
      "metadata": {
        "id": "igU_g-fUWxzN",
        "outputId": "17afec83-fa6a-4f35-c7bb-43f73dcc75d2",
        "colab": {
          "base_uri": "https://localhost:8080/"
        }
      },
      "execution_count": null,
      "outputs": [
        {
          "output_type": "stream",
          "name": "stdout",
          "text": [
            "BGR= [[[ 74  76  77]\n",
            "  [107 109 110]\n",
            "  [138 140 141]\n",
            "  ...\n",
            "  [ 37  48  46]\n",
            "  [ 34  48  44]\n",
            "  [ 30  44  40]]\n",
            "\n",
            " [[ 59  61  62]\n",
            "  [ 99 101 102]\n",
            "  [142 144 145]\n",
            "  ...\n",
            "  [ 36  47  45]\n",
            "  [ 36  50  46]\n",
            "  [ 33  47  43]]\n",
            "\n",
            " [[ 44  46  47]\n",
            "  [ 88  90  91]\n",
            "  [135 137 138]\n",
            "  ...\n",
            "  [ 34  45  43]\n",
            "  [ 36  50  46]\n",
            "  [ 35  49  45]]\n",
            "\n",
            " ...\n",
            "\n",
            " [[225 231 226]\n",
            "  [225 231 226]\n",
            "  [225 231 226]\n",
            "  ...\n",
            "  [110 118 125]\n",
            "  [109 117 124]\n",
            "  [108 116 123]]\n",
            "\n",
            " [[224 232 225]\n",
            "  [224 232 225]\n",
            "  [223 231 224]\n",
            "  ...\n",
            "  [ 97 105 112]\n",
            "  [ 96 104 111]\n",
            "  [ 95 103 110]]\n",
            "\n",
            " [[225 233 226]\n",
            "  [224 232 225]\n",
            "  [223 231 224]\n",
            "  ...\n",
            "  [ 95 103 110]\n",
            "  [ 93 101 108]\n",
            "  [ 93 101 108]]]\n",
            "-------------\n",
            "Blue= [[ 74 107 138 ...  37  34  30]\n",
            " [ 59  99 142 ...  36  36  33]\n",
            " [ 44  88 135 ...  34  36  35]\n",
            " ...\n",
            " [225 225 225 ... 110 109 108]\n",
            " [224 224 223 ...  97  96  95]\n",
            " [225 224 223 ...  95  93  93]]\n",
            "-------------\n",
            "Green= [[ 76 109 140 ...  48  48  44]\n",
            " [ 61 101 144 ...  47  50  47]\n",
            " [ 46  90 137 ...  45  50  49]\n",
            " ...\n",
            " [231 231 231 ... 118 117 116]\n",
            " [232 232 231 ... 105 104 103]\n",
            " [233 232 231 ... 103 101 101]]\n",
            "-------------\n",
            "Red= [[ 77 110 141 ...  46  44  40]\n",
            " [ 62 102 145 ...  45  46  43]\n",
            " [ 47  91 138 ...  43  46  45]\n",
            " ...\n",
            " [226 226 226 ... 125 124 123]\n",
            " [225 225 224 ... 112 111 110]\n",
            " [226 225 224 ... 110 108 108]]\n",
            "-------------\n",
            "gray= [[ 76 109 140 ...  46  45  41]\n",
            " [ 61 101 144 ...  45  47  44]\n",
            " [ 46  90 137 ...  43  47  46]\n",
            " ...\n",
            " [228 228 228 ... 119 118 117]\n",
            " [228 228 227 ... 106 105 104]\n",
            " [229 228 227 ... 104 102 102]]\n"
          ]
        }
      ]
    },
    {
      "cell_type": "markdown",
      "source": [
        "RGB画像をグレースケール画像に変換する式\n",
        "\n",
        "Gray = Red * 0.3 + Green * 0.59 + Blue*0.11"
      ],
      "metadata": {
        "id": "D5cNr6J-iDLN"
      }
    },
    {
      "cell_type": "markdown",
      "source": [
        "<h1>6.HSV色空間に変換</h1>"
      ],
      "metadata": {
        "id": "6Bl67wA6iqiO"
      }
    },
    {
      "cell_type": "markdown",
      "source": [
        "HSV色空間とは、「色相(Hue)」「彩度(Saturation)」「明度(Value)」の3つの組み合わせで色を表現する手法です。\n",
        "HSV色空間は人間が色を知覚する方法と類似しているため、RGB色空間よりも人がイメージした通りの色を作りやすいという特徴があります。\n",
        "この特徴から、画像処理でも色検出をおこなう場合などにHSV色空間が利用されています。"
      ],
      "metadata": {
        "id": "D4FNcgcDi-NO"
      }
    },
    {
      "cell_type": "code",
      "source": [
        "print(\"要学習の必要あり\")"
      ],
      "metadata": {
        "id": "gTXFgk5rh-Fu",
        "outputId": "92db18e9-44bf-4c30-b6b0-acf2367a8896",
        "colab": {
          "base_uri": "https://localhost:8080/"
        }
      },
      "execution_count": null,
      "outputs": [
        {
          "output_type": "stream",
          "name": "stdout",
          "text": [
            "要学習の必要あり\n"
          ]
        }
      ]
    },
    {
      "cell_type": "code",
      "source": [],
      "metadata": {
        "id": "TwadX7Lrothm"
      },
      "execution_count": null,
      "outputs": []
    }
  ]
}