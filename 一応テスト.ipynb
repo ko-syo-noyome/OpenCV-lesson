{
  "nbformat": 4,
  "nbformat_minor": 0,
  "metadata": {
    "colab": {
      "provenance": [],
      "authorship_tag": "ABX9TyNh9U4Dxav6miBZ6c1Tvi5M",
      "include_colab_link": true
    },
    "kernelspec": {
      "name": "python3",
      "display_name": "Python 3"
    },
    "language_info": {
      "name": "python"
    }
  },
  "cells": [
    {
      "cell_type": "markdown",
      "metadata": {
        "id": "view-in-github",
        "colab_type": "text"
      },
      "source": [
        "<a href=\"https://colab.research.google.com/github/ko-syo-noyome/OpenCV-lesson/blob/main/%E4%B8%80%E5%BF%9C%E3%83%86%E3%82%B9%E3%83%88.ipynb\" target=\"_parent\"><img src=\"https://colab.research.google.com/assets/colab-badge.svg\" alt=\"Open In Colab\"/></a>"
      ]
    },
    {
      "cell_type": "code",
      "execution_count": 8,
      "metadata": {
        "colab": {
          "base_uri": "https://localhost:8080/"
        },
        "id": "DRz-Kmm3ZeyT",
        "outputId": "4d08906a-6012-43f7-f38d-f9a474f946c1"
      },
      "outputs": [
        {
          "output_type": "stream",
          "name": "stdout",
          "text": [
            "Drive already mounted at /content/drive; to attempt to forcibly remount, call drive.mount(\"/content/drive\", force_remount=True).\n"
          ]
        }
      ],
      "source": [
        "from google.colab import drive\n",
        "drive.mount('/content/drive')"
      ]
    },
    {
      "cell_type": "code",
      "source": [
        "from PIL import Image\n",
        "import os, glob #特定のパターンにマッチするファイルを取得することができる。：かたまり\n",
        "import numpy as np\n",
        "from sklearn import model_selection"
      ],
      "metadata": {
        "id": "SMYUhVXQZgsS"
      },
      "execution_count": 9,
      "outputs": []
    },
    {
      "cell_type": "code",
      "source": [
        "classes=[\"monkey\",\"boar\",\"crow\"]\n",
        "\n",
        "num_classes=len(classes)\n",
        "image_size=50 #計算時間短縮で50に変換\n",
        "\n",
        "#画像の読み込み\n",
        "X=[]\n",
        "Y=[]\n",
        "\n",
        "for index, classlabel in enumerate(classes):\n",
        "  photos_dir=\"drive/MyDrive/machine-image/\"+classlabel\n",
        "  #print(photos_dir)\n",
        "  files=glob.glob(photos_dir+\"/*.jpg\")\n",
        "  #print(files)\n",
        "  \n",
        "  for i,file in enumerate(files):\n",
        "    #print(i)\n",
        "    if i >=200: break\n",
        "    image=Image.open(file)\n",
        "    image=image.convert(\"RGB\")\n",
        "    image=image.resize((image_size,image_size))\n",
        "    data=np.asarray(image)\n",
        "    X.append(data)\n",
        "    Y.append(index)\n",
        "\n",
        "#tensorflowが読み込みやすいnumpyの配列にする\n",
        "X=np.array(X)\n",
        "Y=np.array(Y)\n",
        "\n",
        "\n",
        "\n"
      ],
      "metadata": {
        "id": "AvbCkuzQZoIo"
      },
      "execution_count": 10,
      "outputs": []
    },
    {
      "cell_type": "code",
      "source": [
        "\n",
        "\n",
        "from keras.models import Sequential\n",
        "from keras.layers import Conv2D,MaxPooling2D\n",
        "from keras.layers import Activation, Dropout, Flatten, Dense\n",
        "from keras.utils import np_utils\n",
        "import numpy as np\n",
        "import tensorflow\n",
        "import keras\n",
        "\n",
        "\n",
        "\n",
        "classes=[\"monkey\",\"boar\",\"crow\"]\n",
        "num_classes=len(classes)\n",
        "image_size=50\n",
        "\n",
        "\n",
        "# main 関数\n",
        "\n",
        "def model_train(X,y):\n",
        "    model=Sequential()\n",
        "    model.add(Conv2D(32,(3,3),padding='same',input_shape=(50,50,3)))\n",
        "    model.add(Activation('relu'))\n",
        "    model.add(Conv2D(32,(3,3)))\n",
        "    model.add(MaxPooling2D(pool_size=(2,2)))\n",
        "    model.add(Dropout(0.25))\n",
        "\n",
        "    model.add(Conv2D(64,(3,3),padding='same'))\n",
        "    model.add(Activation('relu'))\n",
        "    model.add(Conv2D(64,(3,3)))\n",
        "    model.add(Activation('relu'))\n",
        "    model.add(MaxPooling2D(pool_size=(2,2)))\n",
        "    model.add(Dropout(0.25))\n",
        "\n",
        "\n",
        "    model.add(Flatten())\n",
        "    model.add(Dense(512))\n",
        "    model.add(Activation('relu'))\n",
        "    model.add(Dropout(0.25))\n",
        "    model.add(Dense(3))\n",
        "    model.add(Activation('softmax'))\n",
        "\n",
        "    opt = tensorflow.keras.optimizers.RMSprop(lr=0.0001, decay=1e-6)\n",
        "\n",
        "    model.compile(loss='categorical_crossentropy',optimizer=opt,metrics=['accuracy'])\n",
        "\n",
        "\n",
        "    \n",
        "    model.fit(X,y,batch_size=32,epochs=100)\n",
        "\n",
        "    model.save('./drive/MyDrive/-image/part_cnn.h5')\n",
        "\n",
        "    return model\n",
        "\n",
        "\n",
        "def main():\n",
        "    X_train,X_test,y_train,y_test=np.load(\"./drive/MyDrive/larning-image/part.npy\",allow_pickle=True)\n",
        "  \n",
        "\n",
        "\n",
        "    X_train=X_train.astype(\"float\")/256\n",
        "    X_test=X_test.astype(\"float\")/256\n",
        "\n",
        "    y_train=np_utils.to_categorical(y_train, num_classes)\n",
        "    y_test=np_utils.to_categorical(y_test,num_classes)\n",
        "\n",
        "    model=model_train(X_train,y_train)\n",
        "    model_eval(model,X_test,y_test)\n",
        "\n",
        "\n",
        "\n",
        "\n",
        "\n",
        "\n",
        "\n",
        "def model_eval(model,X,y):\n",
        "    scores=model.evaluate(X,y,varbose=1)\n",
        "    print('Test Loss:',scores[0])\n",
        "    print('Test Accuracy:',scores[1])\n",
        "\n",
        "\n",
        "if __name__==\"__main__\":\n",
        "    main()\n",
        "\n",
        "\n",
        "\n",
        "\n",
        "\n",
        "\n",
        "\n",
        "\n",
        "\n"
      ],
      "metadata": {
        "colab": {
          "base_uri": "https://localhost:8080/",
          "height": 173
        },
        "id": "lrD81GKiZ0kt",
        "outputId": "ea4d3853-dc10-4827-a42c-3def2382ea24"
      },
      "execution_count": 4,
      "outputs": [
        {
          "output_type": "error",
          "ename": "IndexError",
          "evalue": "ignored",
          "traceback": [
            "\u001b[0;31m---------------------------------------------------------------------------\u001b[0m",
            "\u001b[0;31mIndexError\u001b[0m                                Traceback (most recent call last)",
            "\u001b[0;32m<ipython-input-4-19c40ecbd036>\u001b[0m in \u001b[0;36m<module>\u001b[0;34m\u001b[0m\n\u001b[0;32m----> 1\u001b[0;31m \u001b[0mX\u001b[0m\u001b[0;34m[\u001b[0m\u001b[0;36m0\u001b[0m\u001b[0;34m]\u001b[0m\u001b[0;34m\u001b[0m\u001b[0;34m\u001b[0m\u001b[0m\n\u001b[0m",
            "\u001b[0;31mIndexError\u001b[0m: index 0 is out of bounds for axis 0 with size 0"
          ]
        }
      ]
    },
    {
      "cell_type": "code",
      "source": [],
      "metadata": {
        "id": "QxNjHBBeZ4Iz"
      },
      "execution_count": null,
      "outputs": []
    }
  ]
}